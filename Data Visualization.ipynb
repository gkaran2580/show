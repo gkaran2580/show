{
 "cells": [
  {
   "cell_type": "markdown",
   "metadata": {},
   "source": [
    "Data Visualization"
   ]
  },
  {
   "cell_type": "code",
   "execution_count": null,
   "metadata": {},
   "outputs": [],
   "source": [
    "from matplotlib import pyplot as plt\n",
    "import seaborn as sb\n",
    "import numpy as np\n",
    "import pandas as pd\n",
    "x=[1,4,7,9]\n",
    "y=[4,8,10,13]\n",
    "x1=[20,24,25,29]\n",
    "y1=[100,200,400,500]\n",
    "plt.xlabel('population')\n",
    "plt.ylabel('Year')\n",
    "plt.title('polulation chart')\n",
    "plt.plot(x,y,'m',label='Delhi',linewidth=4)\n",
    "plt.plot(x1,y1,'r',label='Lucknow',linewidth=4)\n",
    "plt.legend()\n"
   ]
  },
  {
   "cell_type": "markdown",
   "metadata": {},
   "source": [
    "x=[250,210,180,67]\n",
    "y=['python','Java','Android','.net']\n",
    "z=['red','green','yellow','magenta']\n",
    "exp=[0,0,0,0.2]\n",
    "plt.pie(x,labels=y,colors=z,startangle=90,explode=exp,autopct='% .2f%%',shadow=True)\n",
    "plt.legend()"
   ]
  },
  {
   "cell_type": "code",
   "execution_count": null,
   "metadata": {},
   "outputs": [],
   "source": [
    "x=[250,210,180,67]\n",
    "y=['python','Java','Android','.net']\n",
    "z=['red','green','yellow','magenta']\n",
    "exp=[0,0,0,0]\n",
    "plt.pie(x,labels=y,colors=z,startangle=90,explode=exp,autopct='% .2f%%',shadow=True)\n",
    "mcircle=plt.Circle((0,0),.4,color='white')\n",
    "p=plt.gcf()\n",
    "p.gca().add_artist(mcircle)\n",
    "plt.show()\n"
   ]
  },
  {
   "cell_type": "code",
   "execution_count": null,
   "metadata": {},
   "outputs": [],
   "source": [
    "x=[1,4.5,7,9,7,8,9,1.4]\n",
    "y=[4,8,10,13.5,2,3,4,1]\n",
    "x1=[20,24.5,25,29,22,33,44,55]\n",
    "y1=[100,200,400,500,55,6,77,8]\n",
    "\n",
    "plt.scatter(x,y,label='High',color='r')\n",
    "plt.scatter(x1,y1,label='low',color='b')\n",
    "plt.legend()\n",
    "plt.show()\n"
   ]
  },
  {
   "cell_type": "code",
   "execution_count": null,
   "metadata": {},
   "outputs": [],
   "source": [
    "#Sign_Web\n",
    "\n",
    "x=np.arange(0,3*np.pi,0.1)\n",
    "y=np.sin(x)\n",
    "y1=np.cos(x)\n",
    "plt.plot(x,y,color='b')\n",
    "plt.plot(x,y1,color='k')"
   ]
  },
  {
   "cell_type": "code",
   "execution_count": null,
   "metadata": {},
   "outputs": [],
   "source": [
    "data=pd.read_csv('iris.csv',skiprows=1,header=None)\n",
    "data.ffill(inplace=True)"
   ]
  },
  {
   "cell_type": "code",
   "execution_count": null,
   "metadata": {},
   "outputs": [],
   "source": [
    "data.to_csv('irisdemo.csv')"
   ]
  },
  {
   "cell_type": "code",
   "execution_count": null,
   "metadata": {},
   "outputs": [],
   "source": [
    "data=pd.read_csv('irisdemo.csv',skiprows=1,header=None)\n",
    "data"
   ]
  },
  {
   "cell_type": "code",
   "execution_count": null,
   "metadata": {},
   "outputs": [],
   "source": [
    "x=data[1]\n",
    "x\n",
    "plt.subpltplot(2,2,1)\n"
   ]
  },
  {
   "cell_type": "code",
   "execution_count": null,
   "metadata": {},
   "outputs": [],
   "source": []
  }
 ],
 "metadata": {
  "kernelspec": {
   "display_name": "Python 3",
   "language": "python",
   "name": "python3"
  },
  "language_info": {
   "codemirror_mode": {
    "name": "ipython",
    "version": 3
   },
   "file_extension": ".py",
   "mimetype": "text/x-python",
   "name": "python",
   "nbconvert_exporter": "python",
   "pygments_lexer": "ipython3",
   "version": "3.7.1"
  }
 },
 "nbformat": 4,
 "nbformat_minor": 2
}
